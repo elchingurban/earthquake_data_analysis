{
 "cells": [
  {
   "cell_type": "markdown",
   "id": "5f4f4563",
   "metadata": {},
   "source": [
    "## The objective of this homework was to treat the data of all the reported earthquakes from the years 1904 to 2017 with a magnitude greater than 5 units."
   ]
  },
  {
   "cell_type": "code",
   "execution_count": 1,
   "id": "b332bab0",
   "metadata": {},
   "outputs": [],
   "source": [
    "# Importing libraires\n",
    "\n",
    "import numpy as np\n",
    "import pandas as pd\n",
    "import matplotlib.pyplot as plt"
   ]
  },
  {
   "cell_type": "markdown",
   "id": "4bd8c2da",
   "metadata": {},
   "source": [
    "## A. Series"
   ]
  },
  {
   "cell_type": "markdown",
   "id": "31c9701d",
   "metadata": {},
   "source": [
    "#### a) Retrieving the series contained in the Earthquake.dat"
   ]
  },
  {
   "cell_type": "code",
   "execution_count": 2,
   "id": "3aee9132",
   "metadata": {},
   "outputs": [],
   "source": [
    "file ='EARTHQUAKE.dat'\n",
    "columns = [\"YEAR\", \"MONTH\", \"DAY\", \"HOUR\", \"MAGNITUDE\"]\n",
    "df = pd.read_csv(file, delim_whitespace = True, header = None, names = columns)"
   ]
  },
  {
   "cell_type": "code",
   "execution_count": 3,
   "id": "bd4e6776",
   "metadata": {},
   "outputs": [
    {
     "data": {
      "text/html": [
       "<div>\n",
       "<style scoped>\n",
       "    .dataframe tbody tr th:only-of-type {\n",
       "        vertical-align: middle;\n",
       "    }\n",
       "\n",
       "    .dataframe tbody tr th {\n",
       "        vertical-align: top;\n",
       "    }\n",
       "\n",
       "    .dataframe thead th {\n",
       "        text-align: right;\n",
       "    }\n",
       "</style>\n",
       "<table border=\"1\" class=\"dataframe\">\n",
       "  <thead>\n",
       "    <tr style=\"text-align: right;\">\n",
       "      <th></th>\n",
       "      <th>YEAR</th>\n",
       "      <th>MONTH</th>\n",
       "      <th>DAY</th>\n",
       "      <th>HOUR</th>\n",
       "      <th>MAGNITUDE</th>\n",
       "    </tr>\n",
       "  </thead>\n",
       "  <tbody>\n",
       "    <tr>\n",
       "      <th>0</th>\n",
       "      <td>1904.0</td>\n",
       "      <td>4.0</td>\n",
       "      <td>4.0</td>\n",
       "      <td>0.418456</td>\n",
       "      <td>6.84</td>\n",
       "    </tr>\n",
       "    <tr>\n",
       "      <th>1</th>\n",
       "      <td>1904.0</td>\n",
       "      <td>4.0</td>\n",
       "      <td>4.0</td>\n",
       "      <td>0.434732</td>\n",
       "      <td>7.02</td>\n",
       "    </tr>\n",
       "    <tr>\n",
       "      <th>2</th>\n",
       "      <td>1904.0</td>\n",
       "      <td>6.0</td>\n",
       "      <td>25.0</td>\n",
       "      <td>0.615036</td>\n",
       "      <td>7.50</td>\n",
       "    </tr>\n",
       "    <tr>\n",
       "      <th>3</th>\n",
       "      <td>1904.0</td>\n",
       "      <td>6.0</td>\n",
       "      <td>25.0</td>\n",
       "      <td>0.875448</td>\n",
       "      <td>7.70</td>\n",
       "    </tr>\n",
       "    <tr>\n",
       "      <th>4</th>\n",
       "      <td>1904.0</td>\n",
       "      <td>12.0</td>\n",
       "      <td>20.0</td>\n",
       "      <td>0.239125</td>\n",
       "      <td>7.29</td>\n",
       "    </tr>\n",
       "    <tr>\n",
       "      <th>...</th>\n",
       "      <td>...</td>\n",
       "      <td>...</td>\n",
       "      <td>...</td>\n",
       "      <td>...</td>\n",
       "      <td>...</td>\n",
       "    </tr>\n",
       "    <tr>\n",
       "      <th>41705</th>\n",
       "      <td>2017.0</td>\n",
       "      <td>12.0</td>\n",
       "      <td>28.0</td>\n",
       "      <td>0.722469</td>\n",
       "      <td>5.75</td>\n",
       "    </tr>\n",
       "    <tr>\n",
       "      <th>41706</th>\n",
       "      <td>2017.0</td>\n",
       "      <td>12.0</td>\n",
       "      <td>28.0</td>\n",
       "      <td>0.903408</td>\n",
       "      <td>5.54</td>\n",
       "    </tr>\n",
       "    <tr>\n",
       "      <th>41707</th>\n",
       "      <td>2017.0</td>\n",
       "      <td>12.0</td>\n",
       "      <td>29.0</td>\n",
       "      <td>0.889500</td>\n",
       "      <td>5.63</td>\n",
       "    </tr>\n",
       "    <tr>\n",
       "      <th>41708</th>\n",
       "      <td>2017.0</td>\n",
       "      <td>12.0</td>\n",
       "      <td>29.0</td>\n",
       "      <td>0.997160</td>\n",
       "      <td>5.73</td>\n",
       "    </tr>\n",
       "    <tr>\n",
       "      <th>41709</th>\n",
       "      <td>2017.0</td>\n",
       "      <td>12.0</td>\n",
       "      <td>30.0</td>\n",
       "      <td>0.870429</td>\n",
       "      <td>5.12</td>\n",
       "    </tr>\n",
       "  </tbody>\n",
       "</table>\n",
       "<p>41710 rows × 5 columns</p>\n",
       "</div>"
      ],
      "text/plain": [
       "         YEAR  MONTH   DAY      HOUR  MAGNITUDE\n",
       "0      1904.0    4.0   4.0  0.418456       6.84\n",
       "1      1904.0    4.0   4.0  0.434732       7.02\n",
       "2      1904.0    6.0  25.0  0.615036       7.50\n",
       "3      1904.0    6.0  25.0  0.875448       7.70\n",
       "4      1904.0   12.0  20.0  0.239125       7.29\n",
       "...       ...    ...   ...       ...        ...\n",
       "41705  2017.0   12.0  28.0  0.722469       5.75\n",
       "41706  2017.0   12.0  28.0  0.903408       5.54\n",
       "41707  2017.0   12.0  29.0  0.889500       5.63\n",
       "41708  2017.0   12.0  29.0  0.997160       5.73\n",
       "41709  2017.0   12.0  30.0  0.870429       5.12\n",
       "\n",
       "[41710 rows x 5 columns]"
      ]
     },
     "execution_count": 3,
     "metadata": {},
     "output_type": "execute_result"
    }
   ],
   "source": [
    "df"
   ]
  },
  {
   "cell_type": "markdown",
   "id": "00f47157",
   "metadata": {},
   "source": [
    "#### b) Retrieving the date from the corresponding informative columns"
   ]
  },
  {
   "cell_type": "code",
   "execution_count": 4,
   "id": "52ec5e4a",
   "metadata": {},
   "outputs": [],
   "source": [
    "df['YEAR'] = df['YEAR'].astype('int')\n",
    "df['MONTH'] = df['MONTH'].astype('int')\n",
    "df['DAY'] = df['DAY'].astype('int')\n",
    "df['HOUR'] = (df['HOUR']*24).astype('float')\n",
    "df['DATE'] = pd.to_datetime(df[['YEAR','MONTH','DAY','HOUR']])"
   ]
  },
  {
   "cell_type": "code",
   "execution_count": 5,
   "id": "2e50bc8b",
   "metadata": {
    "scrolled": true
   },
   "outputs": [
    {
     "data": {
      "text/plain": [
       "0       1904-04-04 10:02:34.560384\n",
       "1       1904-04-04 10:26:00.880224\n",
       "2       1904-06-25 14:45:39.139776\n",
       "3       1904-06-25 21:00:38.720160\n",
       "4       1904-12-20 05:44:20.439744\n",
       "                   ...            \n",
       "41705   2017-12-28 17:20:21.289632\n",
       "41706   2017-12-28 21:40:54.409728\n",
       "41707   2017-12-29 21:20:52.789632\n",
       "41708   2017-12-29 23:55:54.640416\n",
       "41709   2017-12-30 20:53:25.100160\n",
       "Name: DATE, Length: 41710, dtype: datetime64[ns]"
      ]
     },
     "execution_count": 5,
     "metadata": {},
     "output_type": "execute_result"
    }
   ],
   "source": [
    "df['DATE']"
   ]
  },
  {
   "cell_type": "markdown",
   "id": "74405d72",
   "metadata": {},
   "source": [
    "#### c) Retrieving the data collected throughout the years 1910 and 2017 of the earthquakes with amplitude >= 6"
   ]
  },
  {
   "cell_type": "code",
   "execution_count": 6,
   "id": "7347cf06",
   "metadata": {},
   "outputs": [],
   "source": [
    "df_reduced = df[(df.MAGNITUDE >= 6) & ((df.YEAR >= 1910) & (df.YEAR <= 2017))].reset_index()"
   ]
  },
  {
   "cell_type": "code",
   "execution_count": 7,
   "id": "1b32a2cf",
   "metadata": {},
   "outputs": [
    {
     "data": {
      "text/html": [
       "<div>\n",
       "<style scoped>\n",
       "    .dataframe tbody tr th:only-of-type {\n",
       "        vertical-align: middle;\n",
       "    }\n",
       "\n",
       "    .dataframe tbody tr th {\n",
       "        vertical-align: top;\n",
       "    }\n",
       "\n",
       "    .dataframe thead th {\n",
       "        text-align: right;\n",
       "    }\n",
       "</style>\n",
       "<table border=\"1\" class=\"dataframe\">\n",
       "  <thead>\n",
       "    <tr style=\"text-align: right;\">\n",
       "      <th></th>\n",
       "      <th>index</th>\n",
       "      <th>YEAR</th>\n",
       "      <th>MONTH</th>\n",
       "      <th>DAY</th>\n",
       "      <th>HOUR</th>\n",
       "      <th>MAGNITUDE</th>\n",
       "      <th>DATE</th>\n",
       "    </tr>\n",
       "  </thead>\n",
       "  <tbody>\n",
       "    <tr>\n",
       "      <th>0</th>\n",
       "      <td>199</td>\n",
       "      <td>1910</td>\n",
       "      <td>1</td>\n",
       "      <td>1</td>\n",
       "      <td>11.032980</td>\n",
       "      <td>6.83</td>\n",
       "      <td>1910-01-01 11:01:58.729728</td>\n",
       "    </tr>\n",
       "    <tr>\n",
       "      <th>1</th>\n",
       "      <td>200</td>\n",
       "      <td>1910</td>\n",
       "      <td>1</td>\n",
       "      <td>8</td>\n",
       "      <td>14.823505</td>\n",
       "      <td>6.59</td>\n",
       "      <td>1910-01-08 14:49:24.619584</td>\n",
       "    </tr>\n",
       "    <tr>\n",
       "      <th>2</th>\n",
       "      <td>201</td>\n",
       "      <td>1910</td>\n",
       "      <td>1</td>\n",
       "      <td>22</td>\n",
       "      <td>8.807005</td>\n",
       "      <td>6.98</td>\n",
       "      <td>1910-01-22 08:48:25.219584</td>\n",
       "    </tr>\n",
       "    <tr>\n",
       "      <th>3</th>\n",
       "      <td>202</td>\n",
       "      <td>1910</td>\n",
       "      <td>1</td>\n",
       "      <td>23</td>\n",
       "      <td>18.823167</td>\n",
       "      <td>6.53</td>\n",
       "      <td>1910-01-23 18:49:23.399904</td>\n",
       "    </tr>\n",
       "    <tr>\n",
       "      <th>4</th>\n",
       "      <td>204</td>\n",
       "      <td>1910</td>\n",
       "      <td>4</td>\n",
       "      <td>12</td>\n",
       "      <td>0.373556</td>\n",
       "      <td>8.10</td>\n",
       "      <td>1910-04-12 00:22:24.800016</td>\n",
       "    </tr>\n",
       "    <tr>\n",
       "      <th>...</th>\n",
       "      <td>...</td>\n",
       "      <td>...</td>\n",
       "      <td>...</td>\n",
       "      <td>...</td>\n",
       "      <td>...</td>\n",
       "      <td>...</td>\n",
       "      <td>...</td>\n",
       "    </tr>\n",
       "    <tr>\n",
       "      <th>12023</th>\n",
       "      <td>41685</td>\n",
       "      <td>2017</td>\n",
       "      <td>12</td>\n",
       "      <td>9</td>\n",
       "      <td>15.240450</td>\n",
       "      <td>6.06</td>\n",
       "      <td>2017-12-09 15:14:25.620000</td>\n",
       "    </tr>\n",
       "    <tr>\n",
       "      <th>12024</th>\n",
       "      <td>41689</td>\n",
       "      <td>2017</td>\n",
       "      <td>12</td>\n",
       "      <td>12</td>\n",
       "      <td>8.721675</td>\n",
       "      <td>6.00</td>\n",
       "      <td>2017-12-12 08:43:18.029568</td>\n",
       "    </tr>\n",
       "    <tr>\n",
       "      <th>12025</th>\n",
       "      <td>41690</td>\n",
       "      <td>2017</td>\n",
       "      <td>12</td>\n",
       "      <td>12</td>\n",
       "      <td>21.692181</td>\n",
       "      <td>6.04</td>\n",
       "      <td>2017-12-12 21:41:31.850304</td>\n",
       "    </tr>\n",
       "    <tr>\n",
       "      <th>12026</th>\n",
       "      <td>41692</td>\n",
       "      <td>2017</td>\n",
       "      <td>12</td>\n",
       "      <td>13</td>\n",
       "      <td>18.062386</td>\n",
       "      <td>6.50</td>\n",
       "      <td>2017-12-13 18:03:44.589888</td>\n",
       "    </tr>\n",
       "    <tr>\n",
       "      <th>12027</th>\n",
       "      <td>41695</td>\n",
       "      <td>2017</td>\n",
       "      <td>12</td>\n",
       "      <td>15</td>\n",
       "      <td>16.799317</td>\n",
       "      <td>6.55</td>\n",
       "      <td>2017-12-15 16:47:57.540192</td>\n",
       "    </tr>\n",
       "  </tbody>\n",
       "</table>\n",
       "<p>12028 rows × 7 columns</p>\n",
       "</div>"
      ],
      "text/plain": [
       "       index  YEAR  MONTH  DAY       HOUR  MAGNITUDE  \\\n",
       "0        199  1910      1    1  11.032980       6.83   \n",
       "1        200  1910      1    8  14.823505       6.59   \n",
       "2        201  1910      1   22   8.807005       6.98   \n",
       "3        202  1910      1   23  18.823167       6.53   \n",
       "4        204  1910      4   12   0.373556       8.10   \n",
       "...      ...   ...    ...  ...        ...        ...   \n",
       "12023  41685  2017     12    9  15.240450       6.06   \n",
       "12024  41689  2017     12   12   8.721675       6.00   \n",
       "12025  41690  2017     12   12  21.692181       6.04   \n",
       "12026  41692  2017     12   13  18.062386       6.50   \n",
       "12027  41695  2017     12   15  16.799317       6.55   \n",
       "\n",
       "                            DATE  \n",
       "0     1910-01-01 11:01:58.729728  \n",
       "1     1910-01-08 14:49:24.619584  \n",
       "2     1910-01-22 08:48:25.219584  \n",
       "3     1910-01-23 18:49:23.399904  \n",
       "4     1910-04-12 00:22:24.800016  \n",
       "...                          ...  \n",
       "12023 2017-12-09 15:14:25.620000  \n",
       "12024 2017-12-12 08:43:18.029568  \n",
       "12025 2017-12-12 21:41:31.850304  \n",
       "12026 2017-12-13 18:03:44.589888  \n",
       "12027 2017-12-15 16:47:57.540192  \n",
       "\n",
       "[12028 rows x 7 columns]"
      ]
     },
     "execution_count": 7,
     "metadata": {},
     "output_type": "execute_result"
    }
   ],
   "source": [
    "df_reduced"
   ]
  },
  {
   "cell_type": "markdown",
   "id": "851d5c68",
   "metadata": {},
   "source": [
    "#### d) Creating a new matrix containing the data retrieved in points b) and magnitude"
   ]
  },
  {
   "cell_type": "code",
   "execution_count": 8,
   "id": "30f1ffc5",
   "metadata": {},
   "outputs": [
    {
     "name": "stdout",
     "output_type": "stream",
     "text": [
      "Dimension of the matrix B is (12028, 2)\n"
     ]
    }
   ],
   "source": [
    "matrixB = df_reduced[['DATE','MAGNITUDE']]\n",
    "\n",
    "print(\"Dimension of the matrix B is\", matrixB.shape)"
   ]
  },
  {
   "cell_type": "code",
   "execution_count": 9,
   "id": "50d5de7b",
   "metadata": {},
   "outputs": [
    {
     "name": "stdout",
     "output_type": "stream",
     "text": [
      "First three rows:\n",
      "\n"
     ]
    },
    {
     "data": {
      "text/html": [
       "<div>\n",
       "<style scoped>\n",
       "    .dataframe tbody tr th:only-of-type {\n",
       "        vertical-align: middle;\n",
       "    }\n",
       "\n",
       "    .dataframe tbody tr th {\n",
       "        vertical-align: top;\n",
       "    }\n",
       "\n",
       "    .dataframe thead th {\n",
       "        text-align: right;\n",
       "    }\n",
       "</style>\n",
       "<table border=\"1\" class=\"dataframe\">\n",
       "  <thead>\n",
       "    <tr style=\"text-align: right;\">\n",
       "      <th></th>\n",
       "      <th>DATE</th>\n",
       "      <th>MAGNITUDE</th>\n",
       "    </tr>\n",
       "  </thead>\n",
       "  <tbody>\n",
       "    <tr>\n",
       "      <th>0</th>\n",
       "      <td>1910-01-01 11:01:58.729728</td>\n",
       "      <td>6.83</td>\n",
       "    </tr>\n",
       "    <tr>\n",
       "      <th>1</th>\n",
       "      <td>1910-01-08 14:49:24.619584</td>\n",
       "      <td>6.59</td>\n",
       "    </tr>\n",
       "    <tr>\n",
       "      <th>2</th>\n",
       "      <td>1910-01-22 08:48:25.219584</td>\n",
       "      <td>6.98</td>\n",
       "    </tr>\n",
       "  </tbody>\n",
       "</table>\n",
       "</div>"
      ],
      "text/plain": [
       "                        DATE  MAGNITUDE\n",
       "0 1910-01-01 11:01:58.729728       6.83\n",
       "1 1910-01-08 14:49:24.619584       6.59\n",
       "2 1910-01-22 08:48:25.219584       6.98"
      ]
     },
     "execution_count": 9,
     "metadata": {},
     "output_type": "execute_result"
    }
   ],
   "source": [
    "print(\"First three rows:\\n\")\n",
    "matrixB.head(3)"
   ]
  },
  {
   "cell_type": "markdown",
   "id": "7122d832",
   "metadata": {},
   "source": [
    "#### e) Making a graph of the resulting time series (1910 - 2017)"
   ]
  },
  {
   "cell_type": "code",
   "execution_count": 10,
   "id": "b8e433b1",
   "metadata": {},
   "outputs": [
    {
     "data": {
      "image/png": "[encoded data removed]",
      "text/plain": [
       "<Figure size 936x720 with 1 Axes>"
      ]
     },
     "metadata": {
      "needs_background": "light"
     },
     "output_type": "display_data"
    }
   ],
   "source": [
    "matrixB.plot(x ='DATE', y ='MAGNITUDE', xlabel ='Date',ylabel ='Magnitude',title =\"Earthquakes (1910 - 2017)\", figsize=(13,10))\n",
    "plt.show()"
   ]
  },
  {
   "cell_type": "markdown",
   "id": "a96f4542",
   "metadata": {},
   "source": [
    "## B. Categorization"
   ]
  },
  {
   "cell_type": "markdown",
   "id": "bbc375c2",
   "metadata": {},
   "source": [
    "#### a) Counting the number of earthquakes categorized by magnitude intervals\n",
    "\n",
    "The earthquakes were split into 4 different categories by magnitude:\n",
    "1. Between 6 and 6.99 (6 <= x < 7)\n",
    "2. 7 and 7.99 (7 <= x < 8)\n",
    "3. 8 and 8.99 (8 <= x < 9)\n",
    "4. and greater than 9 (9 <= x)"
   ]
  },
  {
   "cell_type": "code",
   "execution_count": 11,
   "id": "f0575745",
   "metadata": {
    "scrolled": true
   },
   "outputs": [
    {
     "name": "stdout",
     "output_type": "stream",
     "text": [
      "6 <= x < 7    10787\n",
      "7 <= x < 8     1157\n",
      "8 <= x < 9       80\n",
      "9 <= x            4\n",
      "Name: MAGNITUDE, dtype: int64\n"
     ]
    }
   ],
   "source": [
    "magnitude = ['6 <= x < 7','7 <= x < 8','8 <= x < 9','9 <= x']\n",
    "bins = [6, 7, 8, 9, 10]\n",
    "categorized_by_magnitude = pd.cut(matrixB.MAGNITUDE, bins, labels =\n",
    "magnitude, right=False)\n",
    "\n",
    "print(categorized_by_magnitude.value_counts())"
   ]
  }
 ],
 "metadata": {
  "kernelspec": {
   "display_name": "Python 3",
   "language": "python",
   "name": "python3"
  },
  "language_info": {
   "codemirror_mode": {
    "name": "ipython",
    "version": 3
   },
   "file_extension": ".py",
   "mimetype": "text/x-python",
   "name": "python",
   "nbconvert_exporter": "python",
   "pygments_lexer": "ipython3",
   "version": "3.8.8"
  }
 },
 "nbformat": 4,
 "nbformat_minor": 5
}
