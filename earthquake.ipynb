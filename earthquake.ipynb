{
 "cells": [
  {
   "cell_type": "markdown",
   "id": "5f4f4563",
   "metadata": {},
   "source": [
    "## The objective of this homework was to treat the data of all the reported earthquakes from the years 1904 to 2017 with a magnitude greater than 5 units."
   ]
  },
  {
   "cell_type": "code",
   "execution_count": 171,
   "id": "b332bab0",
   "metadata": {},
   "outputs": [],
   "source": [
    "# Importing libraires\n",
    "\n",
    "import numpy as np\n",
    "import pandas as pd\n",
    "import matplotlib.pyplot as plt\n",
    "\n",
    "from datetime import datetime"
   ]
  },
  {
   "cell_type": "markdown",
   "id": "4bd8c2da",
   "metadata": {},
   "source": [
    "## A. Series"
   ]
  },
  {
   "cell_type": "markdown",
   "id": "31c9701d",
   "metadata": {},
   "source": [
    "#### a) Retrieving the series contained in the Earthquake.dat"
   ]
  },
  {
   "cell_type": "code",
   "execution_count": 172,
   "id": "3aee9132",
   "metadata": {},
   "outputs": [],
   "source": [
    "file ='EARTHQUAKE.dat'\n",
    "columns = [\"YEAR\", \"MONTH\", \"DAY\", \"HOUR\", \"MAGNITUDE\"]\n",
    "df = pd.read_csv(file, delim_whitespace = True, header = None, names = columns)"
   ]
  },
  {
   "cell_type": "code",
   "execution_count": 173,
   "id": "bd4e6776",
   "metadata": {
    "scrolled": true
   },
   "outputs": [
    {
     "name": "stdout",
     "output_type": "stream",
     "text": [
      "<class 'pandas.core.frame.DataFrame'>\n",
      "RangeIndex: 41710 entries, 0 to 41709\n",
      "Data columns (total 5 columns):\n",
      " #   Column     Non-Null Count  Dtype  \n",
      "---  ------     --------------  -----  \n",
      " 0   YEAR       41710 non-null  float64\n",
      " 1   MONTH      41710 non-null  float64\n",
      " 2   DAY        41710 non-null  float64\n",
      " 3   HOUR       41710 non-null  float64\n",
      " 4   MAGNITUDE  41710 non-null  float64\n",
      "dtypes: float64(5)\n",
      "memory usage: 1.6 MB\n"
     ]
    }
   ],
   "source": [
    "df.info()"
   ]
  },
  {
   "cell_type": "code",
   "execution_count": 174,
   "id": "3e115a68",
   "metadata": {
    "scrolled": true
   },
   "outputs": [
    {
     "data": {
      "text/html": [
       "<div>\n",
       "<style scoped>\n",
       "    .dataframe tbody tr th:only-of-type {\n",
       "        vertical-align: middle;\n",
       "    }\n",
       "\n",
       "    .dataframe tbody tr th {\n",
       "        vertical-align: top;\n",
       "    }\n",
       "\n",
       "    .dataframe thead th {\n",
       "        text-align: right;\n",
       "    }\n",
       "</style>\n",
       "<table border=\"1\" class=\"dataframe\">\n",
       "  <thead>\n",
       "    <tr style=\"text-align: right;\">\n",
       "      <th></th>\n",
       "      <th>YEAR</th>\n",
       "      <th>MONTH</th>\n",
       "      <th>DAY</th>\n",
       "      <th>HOUR</th>\n",
       "      <th>MAGNITUDE</th>\n",
       "    </tr>\n",
       "  </thead>\n",
       "  <tbody>\n",
       "    <tr>\n",
       "      <th>count</th>\n",
       "      <td>41710.000000</td>\n",
       "      <td>41710.000000</td>\n",
       "      <td>41710.000000</td>\n",
       "      <td>41710.000000</td>\n",
       "      <td>41710.000000</td>\n",
       "    </tr>\n",
       "    <tr>\n",
       "      <th>mean</th>\n",
       "      <td>1979.391753</td>\n",
       "      <td>6.531887</td>\n",
       "      <td>15.681683</td>\n",
       "      <td>0.498835</td>\n",
       "      <td>5.829838</td>\n",
       "    </tr>\n",
       "    <tr>\n",
       "      <th>std</th>\n",
       "      <td>26.196309</td>\n",
       "      <td>3.419229</td>\n",
       "      <td>8.742003</td>\n",
       "      <td>0.288195</td>\n",
       "      <td>0.497847</td>\n",
       "    </tr>\n",
       "    <tr>\n",
       "      <th>min</th>\n",
       "      <td>1904.000000</td>\n",
       "      <td>1.000000</td>\n",
       "      <td>1.000000</td>\n",
       "      <td>0.000005</td>\n",
       "      <td>4.750000</td>\n",
       "    </tr>\n",
       "    <tr>\n",
       "      <th>25%</th>\n",
       "      <td>1965.000000</td>\n",
       "      <td>4.000000</td>\n",
       "      <td>8.000000</td>\n",
       "      <td>0.250703</td>\n",
       "      <td>5.520000</td>\n",
       "    </tr>\n",
       "    <tr>\n",
       "      <th>50%</th>\n",
       "      <td>1983.000000</td>\n",
       "      <td>7.000000</td>\n",
       "      <td>16.000000</td>\n",
       "      <td>0.497684</td>\n",
       "      <td>5.730000</td>\n",
       "    </tr>\n",
       "    <tr>\n",
       "      <th>75%</th>\n",
       "      <td>2001.000000</td>\n",
       "      <td>9.000000</td>\n",
       "      <td>23.000000</td>\n",
       "      <td>0.748493</td>\n",
       "      <td>6.070000</td>\n",
       "    </tr>\n",
       "    <tr>\n",
       "      <th>max</th>\n",
       "      <td>2017.000000</td>\n",
       "      <td>12.000000</td>\n",
       "      <td>31.000000</td>\n",
       "      <td>0.999995</td>\n",
       "      <td>9.550000</td>\n",
       "    </tr>\n",
       "  </tbody>\n",
       "</table>\n",
       "</div>"
      ],
      "text/plain": [
       "               YEAR         MONTH           DAY          HOUR     MAGNITUDE\n",
       "count  41710.000000  41710.000000  41710.000000  41710.000000  41710.000000\n",
       "mean    1979.391753      6.531887     15.681683      0.498835      5.829838\n",
       "std       26.196309      3.419229      8.742003      0.288195      0.497847\n",
       "min     1904.000000      1.000000      1.000000      0.000005      4.750000\n",
       "25%     1965.000000      4.000000      8.000000      0.250703      5.520000\n",
       "50%     1983.000000      7.000000     16.000000      0.497684      5.730000\n",
       "75%     2001.000000      9.000000     23.000000      0.748493      6.070000\n",
       "max     2017.000000     12.000000     31.000000      0.999995      9.550000"
      ]
     },
     "execution_count": 174,
     "metadata": {},
     "output_type": "execute_result"
    }
   ],
   "source": [
    "df.describe()"
   ]
  },
  {
   "cell_type": "code",
   "execution_count": 175,
   "id": "0875a978",
   "metadata": {},
   "outputs": [
    {
     "data": {
      "text/html": [
       "<div>\n",
       "<style scoped>\n",
       "    .dataframe tbody tr th:only-of-type {\n",
       "        vertical-align: middle;\n",
       "    }\n",
       "\n",
       "    .dataframe tbody tr th {\n",
       "        vertical-align: top;\n",
       "    }\n",
       "\n",
       "    .dataframe thead th {\n",
       "        text-align: right;\n",
       "    }\n",
       "</style>\n",
       "<table border=\"1\" class=\"dataframe\">\n",
       "  <thead>\n",
       "    <tr style=\"text-align: right;\">\n",
       "      <th></th>\n",
       "      <th>YEAR</th>\n",
       "      <th>MONTH</th>\n",
       "      <th>DAY</th>\n",
       "      <th>HOUR</th>\n",
       "      <th>MAGNITUDE</th>\n",
       "    </tr>\n",
       "  </thead>\n",
       "  <tbody>\n",
       "    <tr>\n",
       "      <th>0</th>\n",
       "      <td>1904.0</td>\n",
       "      <td>4.0</td>\n",
       "      <td>4.0</td>\n",
       "      <td>0.418456</td>\n",
       "      <td>6.84</td>\n",
       "    </tr>\n",
       "    <tr>\n",
       "      <th>1</th>\n",
       "      <td>1904.0</td>\n",
       "      <td>4.0</td>\n",
       "      <td>4.0</td>\n",
       "      <td>0.434732</td>\n",
       "      <td>7.02</td>\n",
       "    </tr>\n",
       "    <tr>\n",
       "      <th>2</th>\n",
       "      <td>1904.0</td>\n",
       "      <td>6.0</td>\n",
       "      <td>25.0</td>\n",
       "      <td>0.615036</td>\n",
       "      <td>7.50</td>\n",
       "    </tr>\n",
       "    <tr>\n",
       "      <th>3</th>\n",
       "      <td>1904.0</td>\n",
       "      <td>6.0</td>\n",
       "      <td>25.0</td>\n",
       "      <td>0.875448</td>\n",
       "      <td>7.70</td>\n",
       "    </tr>\n",
       "    <tr>\n",
       "      <th>4</th>\n",
       "      <td>1904.0</td>\n",
       "      <td>12.0</td>\n",
       "      <td>20.0</td>\n",
       "      <td>0.239125</td>\n",
       "      <td>7.29</td>\n",
       "    </tr>\n",
       "  </tbody>\n",
       "</table>\n",
       "</div>"
      ],
      "text/plain": [
       "     YEAR  MONTH   DAY      HOUR  MAGNITUDE\n",
       "0  1904.0    4.0   4.0  0.418456       6.84\n",
       "1  1904.0    4.0   4.0  0.434732       7.02\n",
       "2  1904.0    6.0  25.0  0.615036       7.50\n",
       "3  1904.0    6.0  25.0  0.875448       7.70\n",
       "4  1904.0   12.0  20.0  0.239125       7.29"
      ]
     },
     "execution_count": 175,
     "metadata": {},
     "output_type": "execute_result"
    }
   ],
   "source": [
    "df.head()"
   ]
  },
  {
   "cell_type": "markdown",
   "id": "00f47157",
   "metadata": {},
   "source": [
    "#### b) Retrieving the date from the corresponding informative columns"
   ]
  },
  {
   "cell_type": "code",
   "execution_count": 176,
   "id": "52ec5e4a",
   "metadata": {},
   "outputs": [],
   "source": [
    "df['YEAR'] = df['YEAR'].astype('int')\n",
    "df['MONTH'] = df['MONTH'].astype('int')\n",
    "df['DAY'] = df['DAY'].astype('int')\n",
    "df['HOUR'] = (df['HOUR']*24).astype('float')\n",
    "df['DATE'] = pd.to_datetime(df[['YEAR','MONTH','DAY','HOUR']])"
   ]
  },
  {
   "cell_type": "code",
   "execution_count": 177,
   "id": "2e50bc8b",
   "metadata": {
    "scrolled": true
   },
   "outputs": [
    {
     "data": {
      "text/plain": [
       "0       1904-04-04 10:02:34.560384\n",
       "1       1904-04-04 10:26:00.880224\n",
       "2       1904-06-25 14:45:39.139776\n",
       "3       1904-06-25 21:00:38.720160\n",
       "4       1904-12-20 05:44:20.439744\n",
       "                   ...            \n",
       "41705   2017-12-28 17:20:21.289632\n",
       "41706   2017-12-28 21:40:54.409728\n",
       "41707   2017-12-29 21:20:52.789632\n",
       "41708   2017-12-29 23:55:54.640416\n",
       "41709   2017-12-30 20:53:25.100160\n",
       "Name: DATE, Length: 41710, dtype: datetime64[ns]"
      ]
     },
     "execution_count": 177,
     "metadata": {},
     "output_type": "execute_result"
    }
   ],
   "source": [
    "df['DATE']"
   ]
  },
  {
   "cell_type": "markdown",
   "id": "74405d72",
   "metadata": {},
   "source": [
    "#### c) Retrieving the data collected throughout the years 1910 and 2017 of the earthquakes with amplitude >= 6"
   ]
  },
  {
   "cell_type": "code",
   "execution_count": 178,
   "id": "7347cf06",
   "metadata": {},
   "outputs": [],
   "source": [
    "df_reduced = df[(df.MAGNITUDE >= 6) & ((df.YEAR >= 1910) & (df.YEAR <= 2017))].reset_index()"
   ]
  },
  {
   "cell_type": "code",
   "execution_count": 179,
   "id": "1b32a2cf",
   "metadata": {
    "scrolled": true
   },
   "outputs": [
    {
     "data": {
      "text/html": [
       "<div>\n",
       "<style scoped>\n",
       "    .dataframe tbody tr th:only-of-type {\n",
       "        vertical-align: middle;\n",
       "    }\n",
       "\n",
       "    .dataframe tbody tr th {\n",
       "        vertical-align: top;\n",
       "    }\n",
       "\n",
       "    .dataframe thead th {\n",
       "        text-align: right;\n",
       "    }\n",
       "</style>\n",
       "<table border=\"1\" class=\"dataframe\">\n",
       "  <thead>\n",
       "    <tr style=\"text-align: right;\">\n",
       "      <th></th>\n",
       "      <th>index</th>\n",
       "      <th>YEAR</th>\n",
       "      <th>MONTH</th>\n",
       "      <th>DAY</th>\n",
       "      <th>HOUR</th>\n",
       "      <th>MAGNITUDE</th>\n",
       "      <th>DATE</th>\n",
       "    </tr>\n",
       "  </thead>\n",
       "  <tbody>\n",
       "    <tr>\n",
       "      <th>0</th>\n",
       "      <td>199</td>\n",
       "      <td>1910</td>\n",
       "      <td>1</td>\n",
       "      <td>1</td>\n",
       "      <td>11.032980</td>\n",
       "      <td>6.83</td>\n",
       "      <td>1910-01-01 11:01:58.729728</td>\n",
       "    </tr>\n",
       "    <tr>\n",
       "      <th>1</th>\n",
       "      <td>200</td>\n",
       "      <td>1910</td>\n",
       "      <td>1</td>\n",
       "      <td>8</td>\n",
       "      <td>14.823505</td>\n",
       "      <td>6.59</td>\n",
       "      <td>1910-01-08 14:49:24.619584</td>\n",
       "    </tr>\n",
       "    <tr>\n",
       "      <th>2</th>\n",
       "      <td>201</td>\n",
       "      <td>1910</td>\n",
       "      <td>1</td>\n",
       "      <td>22</td>\n",
       "      <td>8.807005</td>\n",
       "      <td>6.98</td>\n",
       "      <td>1910-01-22 08:48:25.219584</td>\n",
       "    </tr>\n",
       "    <tr>\n",
       "      <th>3</th>\n",
       "      <td>202</td>\n",
       "      <td>1910</td>\n",
       "      <td>1</td>\n",
       "      <td>23</td>\n",
       "      <td>18.823167</td>\n",
       "      <td>6.53</td>\n",
       "      <td>1910-01-23 18:49:23.399904</td>\n",
       "    </tr>\n",
       "    <tr>\n",
       "      <th>4</th>\n",
       "      <td>204</td>\n",
       "      <td>1910</td>\n",
       "      <td>4</td>\n",
       "      <td>12</td>\n",
       "      <td>0.373556</td>\n",
       "      <td>8.10</td>\n",
       "      <td>1910-04-12 00:22:24.800016</td>\n",
       "    </tr>\n",
       "  </tbody>\n",
       "</table>\n",
       "</div>"
      ],
      "text/plain": [
       "   index  YEAR  MONTH  DAY       HOUR  MAGNITUDE                       DATE\n",
       "0    199  1910      1    1  11.032980       6.83 1910-01-01 11:01:58.729728\n",
       "1    200  1910      1    8  14.823505       6.59 1910-01-08 14:49:24.619584\n",
       "2    201  1910      1   22   8.807005       6.98 1910-01-22 08:48:25.219584\n",
       "3    202  1910      1   23  18.823167       6.53 1910-01-23 18:49:23.399904\n",
       "4    204  1910      4   12   0.373556       8.10 1910-04-12 00:22:24.800016"
      ]
     },
     "execution_count": 179,
     "metadata": {},
     "output_type": "execute_result"
    }
   ],
   "source": [
    "df_reduced.head()"
   ]
  },
  {
   "cell_type": "markdown",
   "id": "851d5c68",
   "metadata": {},
   "source": [
    "#### d) Creating a new matrix containing the data retrieved in points b) and magnitude"
   ]
  },
  {
   "cell_type": "code",
   "execution_count": 180,
   "id": "30f1ffc5",
   "metadata": {},
   "outputs": [
    {
     "name": "stdout",
     "output_type": "stream",
     "text": [
      "Dimension of the matrix B is (12028, 2)\n"
     ]
    }
   ],
   "source": [
    "matrixB = df_reduced[['DATE','MAGNITUDE']]\n",
    "\n",
    "print(\"Dimension of the matrix B is\", matrixB.shape)"
   ]
  },
  {
   "cell_type": "code",
   "execution_count": 181,
   "id": "50d5de7b",
   "metadata": {},
   "outputs": [
    {
     "name": "stdout",
     "output_type": "stream",
     "text": [
      "First three rows:\n",
      "\n"
     ]
    },
    {
     "data": {
      "text/html": [
       "<div>\n",
       "<style scoped>\n",
       "    .dataframe tbody tr th:only-of-type {\n",
       "        vertical-align: middle;\n",
       "    }\n",
       "\n",
       "    .dataframe tbody tr th {\n",
       "        vertical-align: top;\n",
       "    }\n",
       "\n",
       "    .dataframe thead th {\n",
       "        text-align: right;\n",
       "    }\n",
       "</style>\n",
       "<table border=\"1\" class=\"dataframe\">\n",
       "  <thead>\n",
       "    <tr style=\"text-align: right;\">\n",
       "      <th></th>\n",
       "      <th>DATE</th>\n",
       "      <th>MAGNITUDE</th>\n",
       "    </tr>\n",
       "  </thead>\n",
       "  <tbody>\n",
       "    <tr>\n",
       "      <th>0</th>\n",
       "      <td>1910-01-01 11:01:58.729728</td>\n",
       "      <td>6.83</td>\n",
       "    </tr>\n",
       "    <tr>\n",
       "      <th>1</th>\n",
       "      <td>1910-01-08 14:49:24.619584</td>\n",
       "      <td>6.59</td>\n",
       "    </tr>\n",
       "    <tr>\n",
       "      <th>2</th>\n",
       "      <td>1910-01-22 08:48:25.219584</td>\n",
       "      <td>6.98</td>\n",
       "    </tr>\n",
       "  </tbody>\n",
       "</table>\n",
       "</div>"
      ],
      "text/plain": [
       "                        DATE  MAGNITUDE\n",
       "0 1910-01-01 11:01:58.729728       6.83\n",
       "1 1910-01-08 14:49:24.619584       6.59\n",
       "2 1910-01-22 08:48:25.219584       6.98"
      ]
     },
     "execution_count": 181,
     "metadata": {},
     "output_type": "execute_result"
    }
   ],
   "source": [
    "print(\"First three rows:\\n\")\n",
    "matrixB.head(3)"
   ]
  },
  {
   "cell_type": "markdown",
   "id": "7122d832",
   "metadata": {},
   "source": [
    "#### e) Making a graph of the resulting time series (1910 - 2017)"
   ]
  },
  {
   "cell_type": "code",
   "execution_count": 182,
   "id": "b8e433b1",
   "metadata": {},
   "outputs": [
    {
     "data": {
      "image/png": "[encoded data removed]",
      "text/plain": [
       "<Figure size 936x720 with 1 Axes>"
      ]
     },
     "metadata": {
      "needs_background": "light"
     },
     "output_type": "display_data"
    }
   ],
   "source": [
    "matrixB.plot(x ='DATE', y ='MAGNITUDE', xlabel ='Date',ylabel ='Magnitude',title =\"Earthquakes (1910 - 2017)\", figsize=(13,10))\n",
    "plt.show()"
   ]
  },
  {
   "cell_type": "markdown",
   "id": "a96f4542",
   "metadata": {},
   "source": [
    "## B. Categorization"
   ]
  },
  {
   "cell_type": "markdown",
   "id": "bbc375c2",
   "metadata": {},
   "source": [
    "#### a) Counting the number of earthquakes categorized by magnitude intervals\n",
    "\n",
    "The earthquakes were split into 4 different categories by magnitude:\n",
    "1. Between 6 and 6.99 (6 <= x < 7)\n",
    "2. 7 and 7.99 (7 <= x < 8)\n",
    "3. 8 and 8.99 (8 <= x < 9)\n",
    "4. and greater than 9 (9 <= x)"
   ]
  },
  {
   "cell_type": "code",
   "execution_count": 183,
   "id": "cb0735d7",
   "metadata": {},
   "outputs": [
    {
     "data": {
      "text/plain": [
       "6.0"
      ]
     },
     "execution_count": 183,
     "metadata": {},
     "output_type": "execute_result"
    }
   ],
   "source": [
    "matrixB.MAGNITUDE.min()"
   ]
  },
  {
   "cell_type": "code",
   "execution_count": 184,
   "id": "f0575745",
   "metadata": {
    "scrolled": false
   },
   "outputs": [
    {
     "name": "stdout",
     "output_type": "stream",
     "text": [
      "6 <= x < 7    10787\n",
      "7 <= x < 8     1157\n",
      "8 <= x < 9       80\n",
      "9 <= x            4\n",
      "Name: MAGNITUDE, dtype: int64\n"
     ]
    }
   ],
   "source": [
    "magnitude = ['6 <= x < 7','7 <= x < 8','8 <= x < 9','9 <= x']\n",
    "bins = [6, 7, 8, 9, 10]\n",
    "categorized_by_magnitude = pd.cut(matrixB.MAGNITUDE, bins, labels =\n",
    "magnitude, right=False)\n",
    "\n",
    "print(categorized_by_magnitude.value_counts())"
   ]
  },
  {
   "cell_type": "markdown",
   "id": "705c75e5",
   "metadata": {},
   "source": [
    "#### b) Counting the number of earthquakes categorized by magnitude intervals and 10-years gap intervals"
   ]
  },
  {
   "cell_type": "code",
   "execution_count": 185,
   "id": "81e02835",
   "metadata": {},
   "outputs": [],
   "source": [
    "def get_interval(start, end):\n",
    "    return matrixB[(matrixB.DATE.dt.year >= start) & (matrixB.DATE.dt.year < end)]\n",
    "\n",
    "c_all = []\n",
    "c_index = []\n",
    "\n",
    "for i, year, in enumerate(range(matrixB.DATE.dt.year.min(), matrixB.DATE.dt.year.max(), 10)):\n",
    "    interval = get_interval(year, year + 10).copy()\n",
    "    vals = pd.cut(interval.MAGNITUDE, (6,7,8,9,10), right=False, labels = magnitude)\n",
    "    counts = vals.value_counts()\n",
    "    year_gap = f'{i}-{i+9}'\n",
    "    \n",
    "    c_all.append(counts)\n",
    "    c_index.append(interval.iloc[0, :].DATE.year)"
   ]
  },
  {
   "cell_type": "code",
   "execution_count": 186,
   "id": "6ac3e410",
   "metadata": {},
   "outputs": [],
   "source": [
    "C_10 = pd.DataFrame({\n",
    "    'DATE': c_index,\n",
    "})\n",
    "\n",
    "C_10 = pd.concat((C_10, pd.DataFrame(c_all).reset_index(drop=True)), axis=1)"
   ]
  },
  {
   "cell_type": "code",
   "execution_count": 187,
   "id": "b53f389e",
   "metadata": {
    "scrolled": true
   },
   "outputs": [
    {
     "data": {
      "text/html": [
       "<div>\n",
       "<style scoped>\n",
       "    .dataframe tbody tr th:only-of-type {\n",
       "        vertical-align: middle;\n",
       "    }\n",
       "\n",
       "    .dataframe tbody tr th {\n",
       "        vertical-align: top;\n",
       "    }\n",
       "\n",
       "    .dataframe thead th {\n",
       "        text-align: right;\n",
       "    }\n",
       "</style>\n",
       "<table border=\"1\" class=\"dataframe\">\n",
       "  <thead>\n",
       "    <tr style=\"text-align: right;\">\n",
       "      <th></th>\n",
       "      <th>DATE</th>\n",
       "      <th>6 &lt;= x &lt; 7</th>\n",
       "      <th>7 &lt;= x &lt; 8</th>\n",
       "      <th>8 &lt;= x &lt; 9</th>\n",
       "      <th>9 &lt;= x</th>\n",
       "    </tr>\n",
       "  </thead>\n",
       "  <tbody>\n",
       "    <tr>\n",
       "      <th>0</th>\n",
       "      <td>1910</td>\n",
       "      <td>424</td>\n",
       "      <td>86</td>\n",
       "      <td>10</td>\n",
       "      <td>0</td>\n",
       "    </tr>\n",
       "    <tr>\n",
       "      <th>1</th>\n",
       "      <td>1920</td>\n",
       "      <td>827</td>\n",
       "      <td>100</td>\n",
       "      <td>6</td>\n",
       "      <td>0</td>\n",
       "    </tr>\n",
       "    <tr>\n",
       "      <th>2</th>\n",
       "      <td>1930</td>\n",
       "      <td>932</td>\n",
       "      <td>110</td>\n",
       "      <td>7</td>\n",
       "      <td>0</td>\n",
       "    </tr>\n",
       "    <tr>\n",
       "      <th>3</th>\n",
       "      <td>1940</td>\n",
       "      <td>807</td>\n",
       "      <td>109</td>\n",
       "      <td>10</td>\n",
       "      <td>0</td>\n",
       "    </tr>\n",
       "    <tr>\n",
       "      <th>4</th>\n",
       "      <td>1950</td>\n",
       "      <td>1168</td>\n",
       "      <td>81</td>\n",
       "      <td>7</td>\n",
       "      <td>0</td>\n",
       "    </tr>\n",
       "    <tr>\n",
       "      <th>5</th>\n",
       "      <td>1960</td>\n",
       "      <td>1067</td>\n",
       "      <td>113</td>\n",
       "      <td>9</td>\n",
       "      <td>2</td>\n",
       "    </tr>\n",
       "    <tr>\n",
       "      <th>6</th>\n",
       "      <td>1970</td>\n",
       "      <td>1119</td>\n",
       "      <td>122</td>\n",
       "      <td>8</td>\n",
       "      <td>0</td>\n",
       "    </tr>\n",
       "    <tr>\n",
       "      <th>7</th>\n",
       "      <td>1980</td>\n",
       "      <td>1103</td>\n",
       "      <td>91</td>\n",
       "      <td>1</td>\n",
       "      <td>0</td>\n",
       "    </tr>\n",
       "    <tr>\n",
       "      <th>8</th>\n",
       "      <td>1990</td>\n",
       "      <td>1151</td>\n",
       "      <td>119</td>\n",
       "      <td>5</td>\n",
       "      <td>0</td>\n",
       "    </tr>\n",
       "    <tr>\n",
       "      <th>9</th>\n",
       "      <td>2000</td>\n",
       "      <td>1207</td>\n",
       "      <td>117</td>\n",
       "      <td>10</td>\n",
       "      <td>1</td>\n",
       "    </tr>\n",
       "    <tr>\n",
       "      <th>10</th>\n",
       "      <td>2010</td>\n",
       "      <td>982</td>\n",
       "      <td>109</td>\n",
       "      <td>7</td>\n",
       "      <td>1</td>\n",
       "    </tr>\n",
       "  </tbody>\n",
       "</table>\n",
       "</div>"
      ],
      "text/plain": [
       "    DATE  6 <= x < 7  7 <= x < 8  8 <= x < 9  9 <= x\n",
       "0   1910         424          86          10       0\n",
       "1   1920         827         100           6       0\n",
       "2   1930         932         110           7       0\n",
       "3   1940         807         109          10       0\n",
       "4   1950        1168          81           7       0\n",
       "5   1960        1067         113           9       2\n",
       "6   1970        1119         122           8       0\n",
       "7   1980        1103          91           1       0\n",
       "8   1990        1151         119           5       0\n",
       "9   2000        1207         117          10       1\n",
       "10  2010         982         109           7       1"
      ]
     },
     "execution_count": 187,
     "metadata": {},
     "output_type": "execute_result"
    }
   ],
   "source": [
    "C_10"
   ]
  },
  {
   "cell_type": "code",
   "execution_count": 200,
   "id": "61355ef8",
   "metadata": {},
   "outputs": [],
   "source": [
    "matrixC = matrixB.copy()\n",
    "matrixC['MAGNITUDE'] = categorized_by_magnitude\n",
    "matrixC = matrixC.groupby([matrixC.DATE.dt.year, 'MAGNITUDE']).size().unstack()[magnitude]"
   ]
  },
  {
   "cell_type": "code",
   "execution_count": 202,
   "id": "d7c954f4",
   "metadata": {},
   "outputs": [
    {
     "data": {
      "image/png": "[encoded data removed]",
      "text/plain": [
       "<Figure size 936x720 with 1 Axes>"
      ]
     },
     "metadata": {
      "needs_background": "light"
     },
     "output_type": "display_data"
    }
   ],
   "source": [
    "matrixC.plot(title='Figure 2: Evolution of 3 categories', ylabel=\"Number of occurences\", xlabel='YEAR', figsize=(13,10))\n",
    "plt.show()"
   ]
  },
  {
   "cell_type": "markdown",
   "id": "4268f605",
   "metadata": {},
   "source": [
    "## Mean and Meadian"
   ]
  },
  {
   "cell_type": "markdown",
   "id": "a8c520bb",
   "metadata": {},
   "source": [
    "## A. Mean"
   ]
  },
  {
   "cell_type": "markdown",
   "id": "3f9a7715",
   "metadata": {},
   "source": [
    "#### a) Calculating the mean value and its first, second, and third standard deviations"
   ]
  },
  {
   "cell_type": "code",
   "execution_count": null,
   "id": "9f3efdbe",
   "metadata": {},
   "outputs": [],
   "source": [
    "mean = matrixB.MAGNITUDE.mean()\n",
    "\n",
    "std1 = matrixB.MAGNITUDE.std()\n",
    "std2 = 2 * std1\n",
    "std3 = 3 * std1\n",
    "\n",
    "t_mean_std = pd.Series({\n",
    "    'mean': mean,\n",
    "    'std1': std1,\n",
    "    'std2': std2,\n",
    "    'std3': std3})\n",
    "\n",
    "print(t_mean_std)"
   ]
  },
  {
   "cell_type": "markdown",
   "id": "613c46a9",
   "metadata": {},
   "source": [
    "#### b) Plotting matrixB regarding time, its mean and its mean +/-std1, mean +/-std2, mean +/-std3"
   ]
  },
  {
   "cell_type": "code",
   "execution_count": null,
   "id": "0c6d5d12",
   "metadata": {
    "scrolled": false
   },
   "outputs": [],
   "source": [
    "matrixB.plot(x ='DATE', y ='MAGNITUDE', xlabel ='date', ylabel ='magnitude', title =\"Earthquakes (1910-2017)\", figsize=(13,10))\n",
    "\n",
    "plt.axhline(mean, label ='mean', c ='r')\n",
    "plt.axhline(mean + std1, label ='std1',  c ='y')\n",
    "plt.axhline(mean - std1, label ='-std1', c ='y')\n",
    "plt.axhline(mean + std2, label ='std2', c ='g')\n",
    "plt.axhline(mean - std2, label ='-std2', c ='g')\n",
    "plt.axhline(mean + std3, label ='std3', c ='m')\n",
    "plt.axhline(mean - std3, label ='-std3', c ='m')\n",
    "\n",
    "plt.legend()\n",
    "plt.show()"
   ]
  },
  {
   "cell_type": "markdown",
   "id": "59fb2399",
   "metadata": {},
   "source": [
    "#### c) Finding the percentage of values of magnitudes which are below std1 (< std1), between std1 and std2 (std1 <= x <= std2), above std3 (x > std3)"
   ]
  },
  {
   "cell_type": "code",
   "execution_count": null,
   "id": "f6553a0a",
   "metadata": {},
   "outputs": [],
   "source": [
    "below_std1 = matrixB[(matrixB.MAGNITUDE > mean - std1) & (matrixB.MAGNITUDE < mean + std1)]\n",
    "\n",
    "between_std1_std2 = matrixB[(matrixB.MAGNITUDE >= mean+ std1) & (matrixB.MAGNITUDE <= mean +std2)]\n",
    "\n",
    "above_std3 = matrixB[(matrixB.MAGNITUDE > mean + std3)]\n",
    "\n",
    "numbers = pd.Series({'below std1': below_std1.shape[0],'between std1 and std2': between_std1_std2.shape[0],\n",
    "                     'above std3': above_std3.shape[0]})\n",
    "\n",
    "percentages = pd.Series({'% std1': numbers[0] / matrixB.shape[0] * 100,'% std2': numbers[1] / matrixB.shape[0] * 100,\n",
    "                         '% std3': numbers[2] / matrixB.shape[0] * 100})\n",
    "\n",
    "print(percentages)"
   ]
  }
 ],
 "metadata": {
  "kernelspec": {
   "display_name": "Python 3",
   "language": "python",
   "name": "python3"
  },
  "language_info": {
   "codemirror_mode": {
    "name": "ipython",
    "version": 3
   },
   "file_extension": ".py",
   "mimetype": "text/x-python",
   "name": "python",
   "nbconvert_exporter": "python",
   "pygments_lexer": "ipython3",
   "version": "3.8.8"
  }
 },
 "nbformat": 4,
 "nbformat_minor": 5
}
